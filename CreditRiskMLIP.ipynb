{
 "cells": [
  {
   "cell_type": "code",
   "execution_count": 1,
   "metadata": {
    "executionInfo": {
     "elapsed": 311,
     "status": "ok",
     "timestamp": 1650512316205,
     "user": {
      "displayName": "Satish Channagiri Shreenivasa",
      "userId": "17000929807400111374"
     },
     "user_tz": 240
    },
    "id": "_aoYUTZbTOkm"
   },
   "outputs": [],
   "source": [
    "#Load the librarys\n",
    "import pandas as pd #To work with dataset\n",
    "import numpy as np #Math library\n",
    "import seaborn as sns #Graph library that use matplot in background\n",
    "import matplotlib.pyplot as plt #to plot some parameters in seaborn\n",
    "from sklearn.metrics import roc_auc_score\n",
    "from sklearn.linear_model import LogisticRegression\n",
    "from sklearn.model_selection import train_test_split\n",
    "from sklearn.metrics.pairwise import cosine_similarity\n",
    "from sklearn.metrics import precision_score"
   ]
  },
  {
   "cell_type": "markdown",
   "metadata": {
    "id": "NRTDv2EsyJO9"
   },
   "source": [
    "# Task 1 - Creating Initial Model"
   ]
  },
  {
   "cell_type": "code",
   "execution_count": 2,
   "metadata": {
    "colab": {
     "base_uri": "https://localhost:8080/",
     "height": 336
    },
    "executionInfo": {
     "elapsed": 38,
     "status": "ok",
     "timestamp": 1650512318132,
     "user": {
      "displayName": "Satish Channagiri Shreenivasa",
      "userId": "17000929807400111374"
     },
     "user_tz": 240
    },
    "id": "vfV5JXETUvRR",
    "outputId": "c8861ab4-7d81-45b5-b0e8-d8628c0f3b42"
   },
   "outputs": [
    {
     "name": "stderr",
     "output_type": "stream",
     "text": [
      "/var/folders/tr/c8xx2ghs4vx8mgylq65_ffzm0000gn/T/ipykernel_88682/1541353363.py:8: ParserWarning: Falling back to the 'python' engine because the 'c' engine does not support regex separators (separators > 1 char and different from '\\s+' are interpreted as regex); you can avoid this warning by specifying engine='python'.\n",
      "  df = pd.read_csv('content/german.data', delimiter='\\s', header=None)\n"
     ]
    },
    {
     "data": {
      "text/html": [
       "<div>\n",
       "<style scoped>\n",
       "    .dataframe tbody tr th:only-of-type {\n",
       "        vertical-align: middle;\n",
       "    }\n",
       "\n",
       "    .dataframe tbody tr th {\n",
       "        vertical-align: top;\n",
       "    }\n",
       "\n",
       "    .dataframe thead th {\n",
       "        text-align: right;\n",
       "    }\n",
       "</style>\n",
       "<table border=\"1\" class=\"dataframe\">\n",
       "  <thead>\n",
       "    <tr style=\"text-align: right;\">\n",
       "      <th></th>\n",
       "      <th>Checking_Status</th>\n",
       "      <th>Duration_Months</th>\n",
       "      <th>Credit_History</th>\n",
       "      <th>Purpose</th>\n",
       "      <th>Credit_Amount</th>\n",
       "      <th>Saving_Account</th>\n",
       "      <th>Employment_Since</th>\n",
       "      <th>Installment_Rate_Percentage</th>\n",
       "      <th>Status_Sex</th>\n",
       "      <th>Debtors_Guarantors</th>\n",
       "      <th>...</th>\n",
       "      <th>Property</th>\n",
       "      <th>Age</th>\n",
       "      <th>Installment_Plans</th>\n",
       "      <th>Housing</th>\n",
       "      <th>Existing_credits</th>\n",
       "      <th>Job</th>\n",
       "      <th>People_Liable</th>\n",
       "      <th>Telephone</th>\n",
       "      <th>Foreign_Worker</th>\n",
       "      <th>Loan</th>\n",
       "    </tr>\n",
       "  </thead>\n",
       "  <tbody>\n",
       "    <tr>\n",
       "      <th>0</th>\n",
       "      <td>A11</td>\n",
       "      <td>6</td>\n",
       "      <td>A34</td>\n",
       "      <td>A43</td>\n",
       "      <td>1169</td>\n",
       "      <td>A65</td>\n",
       "      <td>A75</td>\n",
       "      <td>4</td>\n",
       "      <td>A93</td>\n",
       "      <td>A101</td>\n",
       "      <td>...</td>\n",
       "      <td>A121</td>\n",
       "      <td>67</td>\n",
       "      <td>A143</td>\n",
       "      <td>A152</td>\n",
       "      <td>2</td>\n",
       "      <td>A173</td>\n",
       "      <td>1</td>\n",
       "      <td>A192</td>\n",
       "      <td>A201</td>\n",
       "      <td>1</td>\n",
       "    </tr>\n",
       "    <tr>\n",
       "      <th>1</th>\n",
       "      <td>A12</td>\n",
       "      <td>48</td>\n",
       "      <td>A32</td>\n",
       "      <td>A43</td>\n",
       "      <td>5951</td>\n",
       "      <td>A61</td>\n",
       "      <td>A73</td>\n",
       "      <td>2</td>\n",
       "      <td>A92</td>\n",
       "      <td>A101</td>\n",
       "      <td>...</td>\n",
       "      <td>A121</td>\n",
       "      <td>22</td>\n",
       "      <td>A143</td>\n",
       "      <td>A152</td>\n",
       "      <td>1</td>\n",
       "      <td>A173</td>\n",
       "      <td>1</td>\n",
       "      <td>A191</td>\n",
       "      <td>A201</td>\n",
       "      <td>2</td>\n",
       "    </tr>\n",
       "    <tr>\n",
       "      <th>2</th>\n",
       "      <td>A14</td>\n",
       "      <td>12</td>\n",
       "      <td>A34</td>\n",
       "      <td>A46</td>\n",
       "      <td>2096</td>\n",
       "      <td>A61</td>\n",
       "      <td>A74</td>\n",
       "      <td>2</td>\n",
       "      <td>A93</td>\n",
       "      <td>A101</td>\n",
       "      <td>...</td>\n",
       "      <td>A121</td>\n",
       "      <td>49</td>\n",
       "      <td>A143</td>\n",
       "      <td>A152</td>\n",
       "      <td>1</td>\n",
       "      <td>A172</td>\n",
       "      <td>2</td>\n",
       "      <td>A191</td>\n",
       "      <td>A201</td>\n",
       "      <td>1</td>\n",
       "    </tr>\n",
       "    <tr>\n",
       "      <th>3</th>\n",
       "      <td>A11</td>\n",
       "      <td>42</td>\n",
       "      <td>A32</td>\n",
       "      <td>A42</td>\n",
       "      <td>7882</td>\n",
       "      <td>A61</td>\n",
       "      <td>A74</td>\n",
       "      <td>2</td>\n",
       "      <td>A93</td>\n",
       "      <td>A103</td>\n",
       "      <td>...</td>\n",
       "      <td>A122</td>\n",
       "      <td>45</td>\n",
       "      <td>A143</td>\n",
       "      <td>A153</td>\n",
       "      <td>1</td>\n",
       "      <td>A173</td>\n",
       "      <td>2</td>\n",
       "      <td>A191</td>\n",
       "      <td>A201</td>\n",
       "      <td>1</td>\n",
       "    </tr>\n",
       "    <tr>\n",
       "      <th>4</th>\n",
       "      <td>A11</td>\n",
       "      <td>24</td>\n",
       "      <td>A33</td>\n",
       "      <td>A40</td>\n",
       "      <td>4870</td>\n",
       "      <td>A61</td>\n",
       "      <td>A73</td>\n",
       "      <td>3</td>\n",
       "      <td>A93</td>\n",
       "      <td>A101</td>\n",
       "      <td>...</td>\n",
       "      <td>A124</td>\n",
       "      <td>53</td>\n",
       "      <td>A143</td>\n",
       "      <td>A153</td>\n",
       "      <td>2</td>\n",
       "      <td>A173</td>\n",
       "      <td>2</td>\n",
       "      <td>A191</td>\n",
       "      <td>A201</td>\n",
       "      <td>2</td>\n",
       "    </tr>\n",
       "  </tbody>\n",
       "</table>\n",
       "<p>5 rows × 21 columns</p>\n",
       "</div>"
      ],
      "text/plain": [
       "  Checking_Status  Duration_Months Credit_History Purpose  Credit_Amount  \\\n",
       "0             A11                6            A34     A43           1169   \n",
       "1             A12               48            A32     A43           5951   \n",
       "2             A14               12            A34     A46           2096   \n",
       "3             A11               42            A32     A42           7882   \n",
       "4             A11               24            A33     A40           4870   \n",
       "\n",
       "  Saving_Account Employment_Since  Installment_Rate_Percentage Status_Sex  \\\n",
       "0            A65              A75                            4        A93   \n",
       "1            A61              A73                            2        A92   \n",
       "2            A61              A74                            2        A93   \n",
       "3            A61              A74                            2        A93   \n",
       "4            A61              A73                            3        A93   \n",
       "\n",
       "  Debtors_Guarantors  ...  Property Age  Installment_Plans Housing  \\\n",
       "0               A101  ...      A121  67               A143    A152   \n",
       "1               A101  ...      A121  22               A143    A152   \n",
       "2               A101  ...      A121  49               A143    A152   \n",
       "3               A103  ...      A122  45               A143    A153   \n",
       "4               A101  ...      A124  53               A143    A153   \n",
       "\n",
       "  Existing_credits   Job People_Liable  Telephone Foreign_Worker Loan  \n",
       "0                2  A173             1       A192           A201    1  \n",
       "1                1  A173             1       A191           A201    2  \n",
       "2                1  A172             2       A191           A201    1  \n",
       "3                1  A173             2       A191           A201    1  \n",
       "4                2  A173             2       A191           A201    2  \n",
       "\n",
       "[5 rows x 21 columns]"
      ]
     },
     "execution_count": 2,
     "metadata": {},
     "output_type": "execute_result"
    }
   ],
   "source": [
    "column_names = [\"Checking_Status\", \"Duration_Months\", \"Credit_History\", \"Purpose\", \"Credit_Amount\",\n",
    "                \"Saving_Account\", \"Employment_Since\", \"Installment_Rate_Percentage\", \"Status_Sex\", \n",
    "                \"Debtors_Guarantors\", \"Residence_Since\", \"Property\", \"Age\", \"Installment_Plans\", \n",
    "                \"Housing\", \"Existing_credits\", \"Job\", \"People_Liable\", \"Telephone\", \"Foreign_Worker\", \"Loan\"]\n",
    "\n",
    "label_map = {i: col for i, col in enumerate(column_names)}\n",
    "\n",
    "df = pd.read_csv('content/german.data', delimiter='\\s', header=None)\n",
    "df.columns = column_names\n",
    "df.head()"
   ]
  },
  {
   "cell_type": "code",
   "execution_count": 3,
   "metadata": {
    "colab": {
     "base_uri": "https://localhost:8080/"
    },
    "executionInfo": {
     "elapsed": 31,
     "status": "ok",
     "timestamp": 1650512318133,
     "user": {
      "displayName": "Satish Channagiri Shreenivasa",
      "userId": "17000929807400111374"
     },
     "user_tz": 240
    },
    "id": "KDvdfBbs722Z",
    "outputId": "5d19fed5-b085-4f38-a521-c72665be1829"
   },
   "outputs": [
    {
     "data": {
      "text/plain": [
       "Checking_Status                  4\n",
       "Duration_Months                 33\n",
       "Credit_History                   5\n",
       "Purpose                         10\n",
       "Credit_Amount                  921\n",
       "Saving_Account                   5\n",
       "Employment_Since                 5\n",
       "Installment_Rate_Percentage      4\n",
       "Status_Sex                       4\n",
       "Debtors_Guarantors               3\n",
       "Residence_Since                  4\n",
       "Property                         4\n",
       "Age                             53\n",
       "Installment_Plans                3\n",
       "Housing                          3\n",
       "Existing_credits                 4\n",
       "Job                              4\n",
       "People_Liable                    2\n",
       "Telephone                        2\n",
       "Foreign_Worker                   2\n",
       "Loan                             2\n",
       "dtype: int64"
      ]
     },
     "execution_count": 3,
     "metadata": {},
     "output_type": "execute_result"
    }
   ],
   "source": [
    "df.nunique()"
   ]
  },
  {
   "cell_type": "code",
   "execution_count": 4,
   "metadata": {
    "executionInfo": {
     "elapsed": 27,
     "status": "ok",
     "timestamp": 1650512318134,
     "user": {
      "displayName": "Satish Channagiri Shreenivasa",
      "userId": "17000929807400111374"
     },
     "user_tz": 240
    },
    "id": "K7iiJo22NsVr"
   },
   "outputs": [],
   "source": [
    "# 1 for Female and 0 for Male\n",
    "gender = {\"A91\": 0, \"A92\": 1, \"A93\": 0, \"A94\": 0, \"A95\": 1}\n",
    "\n",
    "# 1 for single and 0 for other\n",
    "couple = {\"A91\": 0, \"A92\": 0, \"A93\": 1, \"A94\": 0, \"A95\": 1}\n",
    "\n",
    "df[\"Gender\"] = [gender[val] for val in df[\"Status_Sex\"]]\n",
    "df[\"Couple\"] = [couple[val] for val in df[\"Status_Sex\"]]\n",
    "df = df.drop(\"Status_Sex\", axis=1)"
   ]
  },
  {
   "cell_type": "code",
   "execution_count": 5,
   "metadata": {
    "executionInfo": {
     "elapsed": 27,
     "status": "ok",
     "timestamp": 1650512318135,
     "user": {
      "displayName": "Satish Channagiri Shreenivasa",
      "userId": "17000929807400111374"
     },
     "user_tz": 240
    },
    "id": "-P2i2_Zhrii6"
   },
   "outputs": [],
   "source": [
    "# We set age as 1 for age>=35 (adults with stable financial situation) and 0 for age<35 (budding young adults)\n",
    "df['Age'] = [1 if age>=35 else 0 for age in df[\"Age\"]]"
   ]
  },
  {
   "cell_type": "code",
   "execution_count": 6,
   "metadata": {
    "executionInfo": {
     "elapsed": 28,
     "status": "ok",
     "timestamp": 1650512318136,
     "user": {
      "displayName": "Satish Channagiri Shreenivasa",
      "userId": "17000929807400111374"
     },
     "user_tz": 240
    },
    "id": "QtfVv3CZzbVO"
   },
   "outputs": [],
   "source": [
    "# Setting loan = 1 if Good else 0 (for Bad)\n",
    "df['Loan'] = [1 if loan==1 else 0 for loan in df[\"Loan\"]]"
   ]
  },
  {
   "cell_type": "code",
   "execution_count": 7,
   "metadata": {
    "executionInfo": {
     "elapsed": 28,
     "status": "ok",
     "timestamp": 1650512318137,
     "user": {
      "displayName": "Satish Channagiri Shreenivasa",
      "userId": "17000929807400111374"
     },
     "user_tz": 240
    },
    "id": "welSOcqQaltN"
   },
   "outputs": [],
   "source": [
    "def get_dummies(columns, label_map, df):\n",
    "    print(\"Getting one hot encoding for:\")\n",
    "    for column in columns:\n",
    "        print(column, label_map[column])\n",
    "        dummies = pd.get_dummies(df[label_map[column]], prefix=label_map[column], drop_first=True)\n",
    "        df = pd.concat([df, dummies], axis=1)\n",
    "        df = df.drop(label_map[column], axis=1)\n",
    "    return df"
   ]
  },
  {
   "cell_type": "code",
   "execution_count": 8,
   "metadata": {
    "colab": {
     "base_uri": "https://localhost:8080/"
    },
    "executionInfo": {
     "elapsed": 28,
     "status": "ok",
     "timestamp": 1650512318138,
     "user": {
      "displayName": "Satish Channagiri Shreenivasa",
      "userId": "17000929807400111374"
     },
     "user_tz": 240
    },
    "id": "oI7Q7kcM1xft",
    "outputId": "e4677a7c-0e3d-4cf3-89db-35a63c2d15f2"
   },
   "outputs": [
    {
     "name": "stdout",
     "output_type": "stream",
     "text": [
      "Getting one hot encoding for:\n",
      "0 Checking_Status\n",
      "2 Credit_History\n",
      "3 Purpose\n",
      "5 Saving_Account\n",
      "6 Employment_Since\n",
      "9 Debtors_Guarantors\n",
      "11 Property\n",
      "13 Installment_Plans\n",
      "14 Housing\n",
      "16 Job\n",
      "18 Telephone\n",
      "19 Foreign_Worker\n"
     ]
    }
   ],
   "source": [
    "categorical = [0, 2, 3, 5, 6, 9, 11, 13, 14, 16, 18, 19]\n",
    "df = get_dummies(categorical, label_map, df)"
   ]
  },
  {
   "cell_type": "code",
   "execution_count": 9,
   "metadata": {
    "colab": {
     "base_uri": "https://localhost:8080/",
     "height": 297
    },
    "executionInfo": {
     "elapsed": 61,
     "status": "ok",
     "timestamp": 1650512318590,
     "user": {
      "displayName": "Satish Channagiri Shreenivasa",
      "userId": "17000929807400111374"
     },
     "user_tz": 240
    },
    "id": "si_grGxeSpgo",
    "outputId": "2ebd3d29-b179-48f0-ab65-3e8b3ee7ffae"
   },
   "outputs": [
    {
     "data": {
      "text/plain": [
       "<AxesSubplot:xlabel='Loan', ylabel='Count'>"
      ]
     },
     "execution_count": 9,
     "metadata": {},
     "output_type": "execute_result"
    },
    {
     "data": {
      "image/png": "[encoded data removed]",
      "text/plain": [
       "<Figure size 432x288 with 1 Axes>"
      ]
     },
     "metadata": {
      "needs_background": "light"
     },
     "output_type": "display_data"
    }
   ],
   "source": [
    "sns.histplot(df, x=\"Loan\", hue=\"Loan\")"
   ]
  },
  {
   "cell_type": "code",
   "execution_count": 10,
   "metadata": {
    "colab": {
     "base_uri": "https://localhost:8080/"
    },
    "executionInfo": {
     "elapsed": 54,
     "status": "ok",
     "timestamp": 1650512318592,
     "user": {
      "displayName": "Satish Channagiri Shreenivasa",
      "userId": "17000929807400111374"
     },
     "user_tz": 240
    },
    "id": "G6HXrCRmFgcn",
    "outputId": "55b0c888-91d6-4183-9eb6-13f0c066ea42"
   },
   "outputs": [
    {
     "data": {
      "text/plain": [
       "1    700\n",
       "0    300\n",
       "Name: Loan, dtype: int64"
      ]
     },
     "execution_count": 10,
     "metadata": {},
     "output_type": "execute_result"
    }
   ],
   "source": [
    "# loan.value_counts()\n",
    "df[\"Loan\"].value_counts()"
   ]
  },
  {
   "cell_type": "code",
   "execution_count": 11,
   "metadata": {
    "executionInfo": {
     "elapsed": 51,
     "status": "ok",
     "timestamp": 1650512318594,
     "user": {
      "displayName": "Satish Channagiri Shreenivasa",
      "userId": "17000929807400111374"
     },
     "user_tz": 240
    },
    "id": "7F3E_-oxUPOX"
   },
   "outputs": [],
   "source": [
    "loan = df[\"Loan\"]\n",
    "df = df.drop(\"Loan\", axis=1)"
   ]
  },
  {
   "cell_type": "code",
   "execution_count": 12,
   "metadata": {
    "executionInfo": {
     "elapsed": 51,
     "status": "ok",
     "timestamp": 1650512318596,
     "user": {
      "displayName": "Satish Channagiri Shreenivasa",
      "userId": "17000929807400111374"
     },
     "user_tz": 240
    },
    "id": "BS0ekn6AR5lk"
   },
   "outputs": [],
   "source": [
    "X_train, X_test, y_train, y_test = train_test_split(df, loan, test_size=0.2, random_state=42)"
   ]
  },
  {
   "cell_type": "code",
   "execution_count": 13,
   "metadata": {
    "colab": {
     "base_uri": "https://localhost:8080/"
    },
    "executionInfo": {
     "elapsed": 52,
     "status": "ok",
     "timestamp": 1650512318598,
     "user": {
      "displayName": "Satish Channagiri Shreenivasa",
      "userId": "17000929807400111374"
     },
     "user_tz": 240
    },
    "id": "ikgDfU_-9m_l",
    "outputId": "ddb39a14-0d2e-4fb4-b708-0599704f2a47"
   },
   "outputs": [
    {
     "data": {
      "text/plain": [
       "LogisticRegression(max_iter=1000)"
      ]
     },
     "execution_count": 13,
     "metadata": {},
     "output_type": "execute_result"
    }
   ],
   "source": [
    "model = LogisticRegression(max_iter=1000)\n",
    "model.fit(X_train, y_train)"
   ]
  },
  {
   "cell_type": "code",
   "execution_count": 14,
   "metadata": {
    "colab": {
     "base_uri": "https://localhost:8080/"
    },
    "executionInfo": {
     "elapsed": 48,
     "status": "ok",
     "timestamp": 1650512318600,
     "user": {
      "displayName": "Satish Channagiri Shreenivasa",
      "userId": "17000929807400111374"
     },
     "user_tz": 240
    },
    "id": "21ts93C9TP9d",
    "outputId": "4ddaaa4d-46aa-4259-a47c-cc0605048e4e"
   },
   "outputs": [
    {
     "name": "stdout",
     "output_type": "stream",
     "text": [
      "ROC AUC score: 0.7335617261690107\n"
     ]
    }
   ],
   "source": [
    "y_pred = model.predict(X_test)\n",
    "print(\"ROC AUC score:\", roc_auc_score(y_test, y_pred))"
   ]
  },
  {
   "cell_type": "markdown",
   "metadata": {
    "id": "EO7qsPwDPVq6"
   },
   "source": [
    "# Task 2 - Measuring Fairness"
   ]
  },
  {
   "cell_type": "markdown",
   "metadata": {
    "id": "7SIxfzVM0n65"
   },
   "source": [
    "#### Anti-classification Measurement"
   ]
  },
  {
   "cell_type": "code",
   "execution_count": 15,
   "metadata": {
    "executionInfo": {
     "elapsed": 45,
     "status": "ok",
     "timestamp": 1650512318601,
     "user": {
      "displayName": "Satish Channagiri Shreenivasa",
      "userId": "17000929807400111374"
     },
     "user_tz": 240
    },
    "id": "4EctQXg7Pgcd"
   },
   "outputs": [],
   "source": [
    "def binary_switch(X_test, col):\n",
    "  map = {1:0, 0:1}\n",
    "\n",
    "  X_test_copy = X_test.copy()\n",
    "  X_test_copy[col] = [map[val] for val in X_test_copy[col]]\n",
    "\n",
    "  return X_test_copy  "
   ]
  },
  {
   "cell_type": "code",
   "execution_count": 16,
   "metadata": {
    "executionInfo": {
     "elapsed": 45,
     "status": "ok",
     "timestamp": 1650512318602,
     "user": {
      "displayName": "Satish Channagiri Shreenivasa",
      "userId": "17000929807400111374"
     },
     "user_tz": 240
    },
    "id": "oNcmobdJarbj"
   },
   "outputs": [],
   "source": [
    "X_test_gender_switch = binary_switch(X_test, 'Gender')\n",
    "X_test_age_switch = binary_switch(X_test, 'Age')"
   ]
  },
  {
   "cell_type": "code",
   "execution_count": 17,
   "metadata": {
    "executionInfo": {
     "elapsed": 44,
     "status": "ok",
     "timestamp": 1650512318603,
     "user": {
      "displayName": "Satish Channagiri Shreenivasa",
      "userId": "17000929807400111374"
     },
     "user_tz": 240
    },
    "id": "QnbJpJnqa7xh"
   },
   "outputs": [],
   "source": [
    "# 1 or close to 1 is similar (meaning fair) else not\n",
    "\n",
    "def measure_anti_classification(model, X_test, X_test_switch, col):\n",
    "  print(\"\\nMeasuring anti-classification for\", col, \"-\")\n",
    "  y_pred = model.predict(X_test)\n",
    "  y_pred_switch = model.predict(X_test_switch)\n",
    "  print(\"Similarity score: \", round(cosine_similarity([y_pred], [y_pred_switch])[0][0], 4))"
   ]
  },
  {
   "cell_type": "code",
   "execution_count": 18,
   "metadata": {
    "colab": {
     "base_uri": "https://localhost:8080/"
    },
    "executionInfo": {
     "elapsed": 44,
     "status": "ok",
     "timestamp": 1650512318604,
     "user": {
      "displayName": "Satish Channagiri Shreenivasa",
      "userId": "17000929807400111374"
     },
     "user_tz": 240
    },
    "id": "duHFOuQrcg0z",
    "outputId": "f687c36c-b496-42ed-cab2-770cd56b8256"
   },
   "outputs": [
    {
     "name": "stdout",
     "output_type": "stream",
     "text": [
      "\n",
      "Measuring anti-classification for Gender -\n",
      "Similarity score:  1.0\n"
     ]
    }
   ],
   "source": [
    "measure_anti_classification(model, X_test, X_test_gender_switch, \"Gender\")"
   ]
  },
  {
   "cell_type": "code",
   "execution_count": 19,
   "metadata": {
    "colab": {
     "base_uri": "https://localhost:8080/"
    },
    "executionInfo": {
     "elapsed": 39,
     "status": "ok",
     "timestamp": 1650512318605,
     "user": {
      "displayName": "Satish Channagiri Shreenivasa",
      "userId": "17000929807400111374"
     },
     "user_tz": 240
    },
    "id": "TFcTdqCYc_kE",
    "outputId": "d0f73640-fa0a-4a8c-d3dd-4b34feff93d5"
   },
   "outputs": [
    {
     "name": "stdout",
     "output_type": "stream",
     "text": [
      "\n",
      "Measuring anti-classification for Age -\n",
      "Similarity score:  0.9378\n"
     ]
    }
   ],
   "source": [
    "measure_anti_classification(model, X_test, X_test_age_switch, \"Age\")"
   ]
  },
  {
   "cell_type": "code",
   "execution_count": 20,
   "metadata": {
    "colab": {
     "base_uri": "https://localhost:8080/"
    },
    "executionInfo": {
     "elapsed": 36,
     "status": "ok",
     "timestamp": 1650512318606,
     "user": {
      "displayName": "Satish Channagiri Shreenivasa",
      "userId": "17000929807400111374"
     },
     "user_tz": 240
    },
    "id": "xCEQYh2Tvr0e",
    "outputId": "72a35d5f-1640-4db3-bbe4-bcf3c3a6ff97"
   },
   "outputs": [
    {
     "name": "stdout",
     "output_type": "stream",
     "text": [
      "For Age -\n",
      "Total rows in test:  200\n",
      "Rows same in original and switched:  0\n",
      "\n",
      "For Gender -\n",
      "Total rows in test:  200\n",
      "Rows same in original and switched:  0\n"
     ]
    }
   ],
   "source": [
    "total = 0\n",
    "\n",
    "print(\"For Age -\")\n",
    "for og, ch in zip(X_test[\"Age\"], X_test_age_switch[\"Age\"]):\n",
    "  total += (og == ch)\n",
    "print(\"Total rows in test: \", len(X_test))\n",
    "print(\"Rows same in original and switched: \", total)\n",
    "\n",
    "total = 0\n",
    "\n",
    "print(\"\\nFor Gender -\")\n",
    "for og, ch in zip(X_test[\"Gender\"], X_test_gender_switch[\"Gender\"]):\n",
    "  total += (og == ch)\n",
    "print(\"Total rows in test: \", len(X_test))\n",
    "print(\"Rows same in original and switched: \", total)"
   ]
  },
  {
   "cell_type": "markdown",
   "metadata": {
    "id": "qPQ9cBs808Vq"
   },
   "source": [
    "#### Group Fairness Measurement"
   ]
  },
  {
   "cell_type": "code",
   "execution_count": 21,
   "metadata": {
    "colab": {
     "base_uri": "https://localhost:8080/"
    },
    "executionInfo": {
     "elapsed": 1033,
     "status": "ok",
     "timestamp": 1650512319607,
     "user": {
      "displayName": "Satish Channagiri Shreenivasa",
      "userId": "17000929807400111374"
     },
     "user_tz": 240
    },
    "id": "RRIrmIbIyMnH",
    "outputId": "e61ad9cf-1a06-4618-8cf3-d6bc933c7d6b"
   },
   "outputs": [
    {
     "name": "stdout",
     "output_type": "stream",
     "text": [
      "Group Fairness for Gender-\n",
      "Percentage of Females predicted as good:  73.21 %\n",
      "Percentage of Males predicted as good:  78.47 %\n"
     ]
    }
   ],
   "source": [
    "print(\"Group Fairness for Gender-\")\n",
    "\n",
    "y_pred_gender_1 = model.predict(X_test[X_test[\"Gender\"] == 1])\n",
    "y_pred_gender_0 = model.predict(X_test[X_test[\"Gender\"] == 0])\n",
    "print(\"Percentage of Females predicted as good: \", round((sum(y_pred_gender_1)/len(y_pred_gender_1))*100, 2), \"%\")\n",
    "print(\"Percentage of Males predicted as good: \", round((sum(y_pred_gender_0)/len(y_pred_gender_0))*100, 2), \"%\")"
   ]
  },
  {
   "cell_type": "code",
   "execution_count": 22,
   "metadata": {
    "colab": {
     "base_uri": "https://localhost:8080/"
    },
    "executionInfo": {
     "elapsed": 64,
     "status": "ok",
     "timestamp": 1650512319608,
     "user": {
      "displayName": "Satish Channagiri Shreenivasa",
      "userId": "17000929807400111374"
     },
     "user_tz": 240
    },
    "id": "eXcFXihiz7-a",
    "outputId": "f8a47b3c-a754-4175-b6ec-85e28ea789fc"
   },
   "outputs": [
    {
     "name": "stdout",
     "output_type": "stream",
     "text": [
      "Group Fairness for Age-\n",
      "Percentage of people with age >=35 predicted as good:  84.27 %\n",
      "Percentage of people with age <35 predicted as good:  71.17 %\n"
     ]
    }
   ],
   "source": [
    "print(\"Group Fairness for Age-\")\n",
    "\n",
    "y_pred_age_1 = model.predict(X_test[X_test[\"Age\"] == 1])\n",
    "y_pred_age_0 = model.predict(X_test[X_test[\"Age\"] == 0])\n",
    "print(\"Percentage of people with age >=35 predicted as good: \", round((sum(y_pred_age_1)/len(y_pred_age_1))*100, 2), \"%\")\n",
    "print(\"Percentage of people with age <35 predicted as good: \", round((sum(y_pred_age_0)/len(y_pred_age_0))*100, 2), \"%\")"
   ]
  },
  {
   "cell_type": "markdown",
   "metadata": {
    "id": "qU3NtjOG1wGK"
   },
   "source": [
    "#### Seperation Fairness Measurement"
   ]
  },
  {
   "cell_type": "code",
   "execution_count": 23,
   "metadata": {
    "colab": {
     "base_uri": "https://localhost:8080/"
    },
    "executionInfo": {
     "elapsed": 58,
     "status": "ok",
     "timestamp": 1650512319610,
     "user": {
      "displayName": "Satish Channagiri Shreenivasa",
      "userId": "17000929807400111374"
     },
     "user_tz": 240
    },
    "id": "AZA6JYx_0hDg",
    "outputId": "a52d1161-5fb5-447e-f6c3-946aafe0e04c"
   },
   "outputs": [
    {
     "name": "stdout",
     "output_type": "stream",
     "text": [
      "Seperation fairness mesurenment for Age-\n",
      "FPR score for people with age>=35:  0.615\n",
      "FPR score for people with age<=35:  0.303\n",
      "\n",
      "FNR score for people with age>=35:  0.063\n",
      "FNR score for people with age<=35:  0.115\n"
     ]
    }
   ],
   "source": [
    "# Measuring Precision for the two classes in Age as cost of False positive is high\n",
    "# Precision should be approximately same for both the classes\n",
    "print(\"Seperation fairness mesurenment for Age-\")\n",
    "\n",
    "y_pred_age_1 = model.predict(X_test[X_test[\"Age\"] == 1])\n",
    "y_test_age_1 = [y for y, age in zip(y_test, X_test[\"Age\"]) if age==1]\n",
    "\n",
    "y_pred_age_0 = model.predict(X_test[X_test[\"Age\"] == 0])\n",
    "y_test_age_0 = [y for y, age in zip(y_test, X_test[\"Age\"]) if age==0]\n",
    "\n",
    "#FPR and FNR scores\n",
    "from sklearn.metrics import confusion_matrix\n",
    "cm_age_1 = confusion_matrix(y_test_age_1, y_pred_age_1)\n",
    "cm_age_0=  confusion_matrix(y_test_age_0, y_pred_age_0)\n",
    "\n",
    "#print(cm_age_1)\n",
    "tn1, fp1, fn1, tp1 = cm_age_1.ravel()\n",
    "\n",
    "#print(cm_age_0)\n",
    "tn0, fp0, fn0, tp0 = cm_age_0.ravel()\n",
    "\n",
    "print(\"FPR score for people with age>=35: \", round( fp1/(fp1 + tn1), 3))\n",
    "print(\"FPR score for people with age<=35: \", round( fp0/(fp0 + tn0), 3))\n",
    "\n",
    "print(\"\\nFNR score for people with age>=35: \", round( fn1/(tp1 + fn1), 3))\n",
    "print(\"FNR score for people with age<=35: \", round( fn0/(tp0 + fn0), 3))\n"
   ]
  },
  {
   "cell_type": "code",
   "execution_count": 24,
   "metadata": {
    "colab": {
     "base_uri": "https://localhost:8080/"
    },
    "executionInfo": {
     "elapsed": 465,
     "status": "ok",
     "timestamp": 1650512381234,
     "user": {
      "displayName": "Satish Channagiri Shreenivasa",
      "userId": "17000929807400111374"
     },
     "user_tz": 240
    },
    "id": "jCAMHpON5Lxz",
    "outputId": "4449cb95-8fed-47e9-dd0d-27e52c94e021"
   },
   "outputs": [
    {
     "name": "stdout",
     "output_type": "stream",
     "text": [
      "Seperation fairness mesurenment for Gender-\n",
      "FPR score for people with gender=1:  0.294\n",
      "FPR score for people with gender=0:  0.5\n",
      "\n",
      "FNR score for people with gender=1:  0.077\n",
      "FNR score for people with gender=0:  0.098\n"
     ]
    }
   ],
   "source": [
    "# Measuring Precision for the two classes in Age as cost of False positive is high\n",
    "# Precision should be approximately same for both the classes\n",
    "print(\"Seperation fairness mesurenment for Gender-\")\n",
    "\n",
    "y_pred_gender_1 = model.predict(X_test[X_test[\"Gender\"] == 1])\n",
    "y_test_gender_1 = [y for y, gender in zip(y_test, X_test[\"Gender\"]) if gender==1]\n",
    "\n",
    "y_pred_gender_0 = model.predict(X_test[X_test[\"Gender\"] == 0])\n",
    "y_test_gender_0 = [y for y, gender in zip(y_test, X_test[\"Gender\"]) if gender==0]\n",
    "\n",
    "cm_gender_1 = confusion_matrix(y_test_gender_1, y_pred_gender_1)\n",
    "cm_gender_0=  confusion_matrix(y_test_gender_0, y_pred_gender_0)\n",
    "\n",
    "#print(cm_age_1)\n",
    "tn1, fp1, fn1, tp1 = cm_gender_1.ravel()\n",
    "\n",
    "#print(cm_age_0)\n",
    "tn0, fp0, fn0, tp0 = cm_gender_0.ravel()\n",
    "\n",
    "print(\"FPR score for people with gender=1: \", round( fp1/(fp1 + tn1), 3))\n",
    "print(\"FPR score for people with gender=0: \", round( fp0/(fp0 + tn0), 3))\n",
    "\n",
    "print(\"\\nFNR score for people with gender=1: \", round( fn1/(tp1 + fn1), 3))\n",
    "print(\"FNR score for people with gender=0: \", round( fn0/(tp0 + fn0), 3))"
   ]
  },
  {
   "cell_type": "markdown",
   "metadata": {
    "id": "LsU_-Ywc6s3U"
   },
   "source": [
    "# Task 3 - Improve Model Fairness"
   ]
  },
  {
   "cell_type": "markdown",
   "metadata": {
    "id": "zlu5Ps9s629W"
   },
   "source": [
    "#### For anti-classification"
   ]
  },
  {
   "cell_type": "code",
   "execution_count": 25,
   "metadata": {
    "colab": {
     "base_uri": "https://localhost:8080/"
    },
    "executionInfo": {
     "elapsed": 48,
     "status": "ok",
     "timestamp": 1650512319612,
     "user": {
      "displayName": "Satish Channagiri Shreenivasa",
      "userId": "17000929807400111374"
     },
     "user_tz": 240
    },
    "id": "Y5yF_hAB59Gd",
    "outputId": "b4edb283-9cb2-419a-ccbe-c5411019e3b8"
   },
   "outputs": [
    {
     "name": "stdout",
     "output_type": "stream",
     "text": [
      "ROC AUC score for new model: 0.7300156268782306\n"
     ]
    }
   ],
   "source": [
    "# For anti-classification let's remove the protected variable while creating the model. We would be removing the variable Gender\n",
    "\n",
    "X_train_fair = X_train.drop(\"Gender\", axis=1)\n",
    "X_test_fair = X_test.drop(\"Gender\", axis=1)\n",
    "\n",
    "model_fair = LogisticRegression(max_iter=1000)\n",
    "model_fair.fit(X_train_fair, y_train)\n",
    "\n",
    "y_pred_fair = model_fair.predict(X_test_fair)\n",
    "print(\"ROC AUC score for new model:\", roc_auc_score(y_test, y_pred_fair))"
   ]
  },
  {
   "cell_type": "code",
   "execution_count": 26,
   "metadata": {
    "colab": {
     "base_uri": "https://localhost:8080/"
    },
    "executionInfo": {
     "elapsed": 43,
     "status": "ok",
     "timestamp": 1650512319613,
     "user": {
      "displayName": "Satish Channagiri Shreenivasa",
      "userId": "17000929807400111374"
     },
     "user_tz": 240
    },
    "id": "_uoKqhId7pRf",
    "outputId": "68e8fe2e-d82f-47db-af03-7aa119953b56"
   },
   "outputs": [
    {
     "name": "stdout",
     "output_type": "stream",
     "text": [
      "\n",
      "Measuring anti-classification for Gender -\n",
      "Similarity score:  1.0\n"
     ]
    }
   ],
   "source": [
    "X_test_gender_switch = binary_switch(X_test, 'Gender')\n",
    "X_test_gender_switch_fair = X_test_gender_switch.drop(\"Gender\", axis=1)\n",
    "\n",
    "measure_anti_classification(model_fair, X_test_fair, X_test_gender_switch_fair, \"Gender\")"
   ]
  },
  {
   "cell_type": "markdown",
   "metadata": {
    "id": "l1iKmbA59mT7"
   },
   "source": [
    "#### For Group Fairness"
   ]
  },
  {
   "cell_type": "code",
   "execution_count": 27,
   "metadata": {
    "executionInfo": {
     "elapsed": 40,
     "status": "ok",
     "timestamp": 1650512319615,
     "user": {
      "displayName": "Satish Channagiri Shreenivasa",
      "userId": "17000929807400111374"
     },
     "user_tz": 240
    },
    "id": "X2mraga99iY-"
   },
   "outputs": [],
   "source": [
    "def get_best_threshold_group(model, X_text, col):\n",
    "  divide_on = np.arange(0.2, 0.8, 0.01)\n",
    "  min_score = 1\n",
    "  best_threshold = 0.5\n",
    "\n",
    "  y_pred_col_1_prob = model.predict_proba(X_test[X_test[col] == 1])\n",
    "  y_pred_col_0_prob = model.predict_proba(X_test[X_test[col] == 0])\n",
    "\n",
    "  for threshold in divide_on:\n",
    "\n",
    "    y_pred_col_1 = [1 if val_0 <= threshold else 0 for val_0, _ in y_pred_col_1_prob] \n",
    "    y_pred_col_0 = [1 if val_0 <= threshold else 0 for val_0, _ in y_pred_col_0_prob]      \n",
    "\n",
    "    difference = abs((np.sum(y_pred_col_1)/len(y_pred_col_1)) - (np.sum(y_pred_col_0)/len(y_pred_col_0)))\n",
    "    if difference < min_score:\n",
    "      min_score = difference\n",
    "      best_threshold = threshold\n",
    "      if min_score == 0:\n",
    "        break\n",
    "    \n",
    "  return round(best_threshold, 2)\n"
   ]
  },
  {
   "cell_type": "code",
   "execution_count": 28,
   "metadata": {
    "colab": {
     "base_uri": "https://localhost:8080/"
    },
    "executionInfo": {
     "elapsed": 260,
     "status": "ok",
     "timestamp": 1650512319837,
     "user": {
      "displayName": "Satish Channagiri Shreenivasa",
      "userId": "17000929807400111374"
     },
     "user_tz": 240
    },
    "id": "qOmEANY_BpR9",
    "outputId": "da4d5eb4-d5bb-4925-e583-8fc96721fdee"
   },
   "outputs": [
    {
     "name": "stdout",
     "output_type": "stream",
     "text": [
      "Group Fairness for Gender with new threshold-\n",
      "New threshold:  0.6\n",
      "Percentage of Females predicted as good:  82.14 %\n",
      "Percentage of Males predicted as good:  81.94 %\n"
     ]
    }
   ],
   "source": [
    "print(\"Group Fairness for Gender with new threshold-\")\n",
    "\n",
    "threshold = get_best_threshold_group(model, X_test, \"Gender\")\n",
    "print(\"New threshold: \", threshold)\n",
    "\n",
    "y_pred_gender_1_prob = model.predict_proba(X_test[X_test[\"Gender\"] == 1])\n",
    "y_pred_gender_0_prob = model.predict_proba(X_test[X_test[\"Gender\"] == 0])\n",
    "\n",
    "y_pred_gender_1 = [1 if prob < threshold else 0 for prob, _ in y_pred_gender_1_prob]\n",
    "y_pred_gender_0 = [1 if prob < threshold else 0 for prob, _ in y_pred_gender_0_prob]\n",
    "\n",
    "print(\"Percentage of Females predicted as good: \", round((np.sum(y_pred_gender_1)/len(y_pred_gender_1))*100, 2), \"%\")\n",
    "print(\"Percentage of Males predicted as good: \", round((np.sum(y_pred_gender_0)/len(y_pred_gender_0))*100, 2), \"%\")"
   ]
  },
  {
   "cell_type": "markdown",
   "metadata": {
    "id": "hLRxDJpHJPcu"
   },
   "source": [
    "#### For Seperation"
   ]
  },
  {
   "cell_type": "code",
   "execution_count": 29,
   "metadata": {
    "executionInfo": {
     "elapsed": 32,
     "status": "ok",
     "timestamp": 1650512319839,
     "user": {
      "displayName": "Satish Channagiri Shreenivasa",
      "userId": "17000929807400111374"
     },
     "user_tz": 240
    },
    "id": "AtImywyyKFb1"
   },
   "outputs": [],
   "source": [
    "def get_best_threshold_seperation(model, X_test, y_test, col):\n",
    "  divide_on = np.arange(0.2, 0.8, 0.01)\n",
    "  min_score = 1\n",
    "  best_threshold = 0.5\n",
    "\n",
    "  y_pred_col_1_prob = model.predict_proba(X_test[X_test[col] == 1])\n",
    "  y_pred_col_0_prob = model.predict_proba(X_test[X_test[col] == 0])\n",
    "  \n",
    "  y_test_col_1 = [y for y, val in zip(y_test, X_test[col]) if val==1]\n",
    "  y_test_col_0 = [y for y, val in zip(y_test, X_test[col]) if val==0]\n",
    "\n",
    "  for threshold in divide_on:\n",
    "\n",
    "    y_pred_col_1 = [1 if val_0 <= threshold else 0 for val_0, _ in y_pred_col_1_prob] \n",
    "    y_pred_col_0 = [1 if val_0 <= threshold else 0 for val_0, _ in y_pred_col_0_prob]\n",
    "\n",
    "\n",
    "    cm_col_1 = confusion_matrix(y_test_col_1, y_pred_col_1)\n",
    "    cm_col_0 = confusion_matrix(y_test_col_0, y_pred_col_0)\n",
    "    difference = abs(precision_score(y_test_col_1, y_pred_col_1) - precision_score(y_test_col_0, y_pred_col_0))\n",
    "\n",
    "    if difference < min_score:\n",
    "      min_score = difference\n",
    "      best_threshold = threshold\n",
    "      if min_score == 0:\n",
    "        break\n",
    "\n",
    "  return round(best_threshold, 2)"
   ]
  },
  {
   "cell_type": "code",
   "execution_count": 30,
   "metadata": {
    "colab": {
     "base_uri": "https://localhost:8080/"
    },
    "executionInfo": {
     "elapsed": 32,
     "status": "ok",
     "timestamp": 1650512319841,
     "user": {
      "displayName": "Satish Channagiri Shreenivasa",
      "userId": "17000929807400111374"
     },
     "user_tz": 240
    },
    "id": "x7IcwIc4IYyI",
    "outputId": "bc6768df-1690-4d09-f016-27fe2c22ba99"
   },
   "outputs": [
    {
     "name": "stdout",
     "output_type": "stream",
     "text": [
      "Seperation fairness mesurenment for Gender with new threshold-\n",
      "New threshold:  0.54\n",
      "Precision score for Females:  0.818\n",
      "Precision score for Males:  0.819\n"
     ]
    }
   ],
   "source": [
    "# Measuring Precision for the two classes in Age as cost of False positive is high\n",
    "# Precision should be approximately same for both the classes\n",
    "print(\"Seperation fairness mesurenment for Gender with new threshold-\")\n",
    "\n",
    "threshold = get_best_threshold_seperation(model, X_test, y_test, \"Gender\")\n",
    "print(\"New threshold: \", threshold)\n",
    "\n",
    "y_pred_gender_1_prob = model.predict_proba(X_test[X_test[\"Gender\"] == 1])\n",
    "y_pred_gender_1 = [1 if prob < threshold else 0 for prob, _ in y_pred_gender_1_prob]\n",
    "y_test_gender_1 = [y for y, gender in zip(y_test, X_test[\"Gender\"]) if gender==1]\n",
    "\n",
    "y_pred_gender_0_prob = model.predict_proba(X_test[X_test[\"Gender\"] == 0])\n",
    "y_pred_gender_0 = [1 if prob < threshold else 0 for prob, _ in y_pred_gender_0_prob]\n",
    "y_test_gender_0 = [y for y, gender in zip(y_test, X_test[\"Gender\"]) if gender==0]\n",
    "\n",
    "print(\"Precision score for Females: \", round(precision_score(y_test_gender_1, y_pred_gender_1), 3))\n",
    "print(\"Precision score for Males: \", round(precision_score(y_test_gender_0, y_pred_gender_0), 3))"
   ]
  },
  {
   "cell_type": "code",
   "execution_count": 31,
   "metadata": {
    "colab": {
     "base_uri": "https://localhost:8080/"
    },
    "executionInfo": {
     "elapsed": 28,
     "status": "ok",
     "timestamp": 1650512319842,
     "user": {
      "displayName": "Satish Channagiri Shreenivasa",
      "userId": "17000929807400111374"
     },
     "user_tz": 240
    },
    "id": "UucFWmMXPHdz",
    "outputId": "299de4ee-58ad-4315-b950-2e49b56dc705"
   },
   "outputs": [
    {
     "name": "stdout",
     "output_type": "stream",
     "text": [
      "FPR score for people with gender=1:  0.471\n",
      "FPR score for people with gender=0:  0.5\n",
      "\n",
      "FNR score for people with gender=1:  0.077\n",
      "FNR score for people with gender=0:  0.069\n"
     ]
    }
   ],
   "source": [
    "cm_gender_1 = confusion_matrix(y_test_gender_1, y_pred_gender_1)\n",
    "cm_gender_0=  confusion_matrix(y_test_gender_0, y_pred_gender_0)\n",
    "\n",
    "#print(cm_age_1)\n",
    "tn1, fp1, fn1, tp1 = cm_gender_1.ravel()\n",
    "\n",
    "#print(cm_age_0)\n",
    "tn0, fp0, fn0, tp0 = cm_gender_0.ravel()\n",
    "\n",
    "print(\"FPR score for people with gender=1: \", round( fp1/(fp1 + tn1), 3))\n",
    "print(\"FPR score for people with gender=0: \", round( fp0/(fp0 + tn0), 3))\n",
    "\n",
    "print(\"\\nFNR score for people with gender=1: \", round( fn1/(tp1 + fn1), 3))\n",
    "print(\"FNR score for people with gender=0: \", round( fn0/(tp0 + fn0), 3))"
   ]
  },
  {
   "cell_type": "code",
   "execution_count": null,
   "metadata": {
    "executionInfo": {
     "elapsed": 23,
     "status": "ok",
     "timestamp": 1650512319843,
     "user": {
      "displayName": "Satish Channagiri Shreenivasa",
      "userId": "17000929807400111374"
     },
     "user_tz": 240
    },
    "id": "1Oh_LA48H8xf"
   },
   "outputs": [],
   "source": []
  }
 ],
 "metadata": {
  "accelerator": "GPU",
  "colab": {
   "collapsed_sections": [],
   "name": "CreditRiskMLIP.ipynb",
   "provenance": []
  },
  "kernelspec": {
   "display_name": "Python 3 (ipykernel)",
   "language": "python",
   "name": "python3"
  },
  "language_info": {
   "codemirror_mode": {
    "name": "ipython",
    "version": 3
   },
   "file_extension": ".py",
   "mimetype": "text/x-python",
   "name": "python",
   "nbconvert_exporter": "python",
   "pygments_lexer": "ipython3",
   "version": "3.10.2"
  }
 },
 "nbformat": 4,
 "nbformat_minor": 1
}
